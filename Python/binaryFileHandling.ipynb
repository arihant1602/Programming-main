{
  "nbformat": 4,
  "nbformat_minor": 0,
  "metadata": {
    "colab": {
      "provenance": []
    },
    "kernelspec": {
      "name": "python3",
      "display_name": "Python 3"
    },
    "language_info": {
      "name": "python"
    }
  },
  "cells": [
    {
      "cell_type": "code",
      "execution_count": null,
      "metadata": {
        "id": "uzPhb-cj4K7G"
      },
      "outputs": [],
      "source": [
        "with open('/content/wallpaper-522.jpg','rb') as f:\n",
        "  with open('pic.jpg', 'wb') as fb:\n",
        "    fb.write(f.read())"
      ]
    },
    {
      "cell_type": "code",
      "source": [
        "a=[1,2,3,4,5]"
      ],
      "metadata": {
        "id": "pxucPxbs8KxN"
      },
      "execution_count": null,
      "outputs": []
    },
    {
      "cell_type": "code",
      "source": [
        "with open('sample.txt','w') as f:\n",
        "  f.write(str(a))"
      ],
      "metadata": {
        "id": "hsHpjsS78Rh-"
      },
      "execution_count": null,
      "outputs": []
    },
    {
      "cell_type": "code",
      "source": [
        "with open('sample.txt','r') as f:\n",
        "  print((f.read().split()))"
      ],
      "metadata": {
        "colab": {
          "base_uri": "https://localhost:8080/"
        },
        "id": "BmVL94n18iOc",
        "outputId": "83f4b004-a47f-4e1d-9b18-d7e7763c207f"
      },
      "execution_count": null,
      "outputs": [
        {
          "output_type": "stream",
          "name": "stdout",
          "text": [
            "['[1,', '2,', '3,', '4,', '5]']\n"
          ]
        }
      ]
    },
    {
      "cell_type": "code",
      "source": [
        "ab={\n",
        "    'name':'Sid',\n",
        "    'age':'25',\n",
        "    'city':'doon'\n",
        "}"
      ],
      "metadata": {
        "id": "8gYamaop9jP1"
      },
      "execution_count": null,
      "outputs": []
    },
    {
      "cell_type": "code",
      "source": [
        "with open('sample.txt','w') as f:\n",
        "  f.write(str(ab))"
      ],
      "metadata": {
        "id": "OrEiDoah93-n"
      },
      "execution_count": null,
      "outputs": []
    },
    {
      "cell_type": "code",
      "source": [
        "with open('sample.txt','r') as f:\n",
        "  print(f.read(str(ab)))"
      ],
      "metadata": {
        "colab": {
          "base_uri": "https://localhost:8080/",
          "height": 183
        },
        "id": "EU3YZEkW-D1Q",
        "outputId": "effa8ee4-36f0-47b1-bf0d-a5a615537446"
      },
      "execution_count": null,
      "outputs": [
        {
          "output_type": "error",
          "ename": "TypeError",
          "evalue": "ignored",
          "traceback": [
            "\u001b[0;31m---------------------------------------------------------------------------\u001b[0m",
            "\u001b[0;31mTypeError\u001b[0m                                 Traceback (most recent call last)",
            "\u001b[0;32m<ipython-input-16-a66a183ee611>\u001b[0m in \u001b[0;36m<cell line: 1>\u001b[0;34m()\u001b[0m\n\u001b[1;32m      1\u001b[0m \u001b[0;32mwith\u001b[0m \u001b[0mopen\u001b[0m\u001b[0;34m(\u001b[0m\u001b[0;34m'sample.txt'\u001b[0m\u001b[0;34m,\u001b[0m\u001b[0;34m'r'\u001b[0m\u001b[0;34m)\u001b[0m \u001b[0;32mas\u001b[0m \u001b[0mf\u001b[0m\u001b[0;34m:\u001b[0m\u001b[0;34m\u001b[0m\u001b[0;34m\u001b[0m\u001b[0m\n\u001b[0;32m----> 2\u001b[0;31m   \u001b[0mprint\u001b[0m\u001b[0;34m(\u001b[0m\u001b[0mf\u001b[0m\u001b[0;34m.\u001b[0m\u001b[0mread\u001b[0m\u001b[0;34m(\u001b[0m\u001b[0mstr\u001b[0m\u001b[0;34m(\u001b[0m\u001b[0mab\u001b[0m\u001b[0;34m)\u001b[0m\u001b[0;34m)\u001b[0m\u001b[0;34m)\u001b[0m\u001b[0;34m\u001b[0m\u001b[0;34m\u001b[0m\u001b[0m\n\u001b[0m",
            "\u001b[0;31mTypeError\u001b[0m: argument should be integer or None, not 'str'"
          ]
        }
      ]
    },
    {
      "cell_type": "code",
      "source": [
        "import json\n",
        "\n",
        "with open('sample.json','w') as f:\n",
        "  json.dump(a,f)"
      ],
      "metadata": {
        "id": "oPtdhYoA-htM"
      },
      "execution_count": null,
      "outputs": []
    },
    {
      "cell_type": "code",
      "source": [
        "import json\n",
        "\n",
        "with open('sample.json','r') as f:\n",
        "  print(type(json.load(f)))"
      ],
      "metadata": {
        "colab": {
          "base_uri": "https://localhost:8080/"
        },
        "id": "WQpQnPTN_xm2",
        "outputId": "99fd4b87-68e7-43c9-9bc5-7850af4a0cfa"
      },
      "execution_count": null,
      "outputs": [
        {
          "output_type": "stream",
          "name": "stdout",
          "text": [
            "<class 'list'>\n"
          ]
        }
      ]
    },
    {
      "cell_type": "code",
      "source": [
        "import json\n",
        "\n",
        "with open('sample.json','w') as f:\n",
        "  json.dump(ab,f,indent=4)"
      ],
      "metadata": {
        "id": "Wan4R6TMAeGR"
      },
      "execution_count": null,
      "outputs": []
    },
    {
      "cell_type": "code",
      "source": [
        "class mine:\n",
        "  def __init__(self,fname,lname,age,city):\n",
        "    self.fname=fname\n",
        "    self.lname=lname\n",
        "    self.age=age\n",
        "    self.city=city\n",
        "\n",
        "  def func(self):\n",
        "    return \"My name is {} {} and age is {} and city is {}.\".format(self.fname,self.lname,self.age,self.city)\n",
        "  "
      ],
      "metadata": {
        "id": "vlUVEBalAxYv"
      },
      "execution_count": null,
      "outputs": []
    },
    {
      "cell_type": "code",
      "source": [
        "obj=mine('Siddhant','Pandey','25','doon')"
      ],
      "metadata": {
        "id": "Sbn55zupBMEK"
      },
      "execution_count": null,
      "outputs": []
    },
    {
      "cell_type": "code",
      "source": [
        "obj.func()"
      ],
      "metadata": {
        "colab": {
          "base_uri": "https://localhost:8080/",
          "height": 35
        },
        "id": "i3SE3kivFDFh",
        "outputId": "2ebff531-3e34-4ee0-b00d-ec415acdfd47"
      },
      "execution_count": null,
      "outputs": [
        {
          "output_type": "execute_result",
          "data": {
            "text/plain": [
              "'My name is Siddhant Pandey and age is 25 and city is doon.'"
            ],
            "application/vnd.google.colaboratory.intrinsic+json": {
              "type": "string"
            }
          },
          "metadata": {},
          "execution_count": 42
        }
      ]
    },
    {
      "cell_type": "code",
      "source": [
        "def func(obj):\n",
        "  return \"My name is {} {} and age is {} and city is {}.\".format(obj.fname,obj.lname,obj.age,obj.city)"
      ],
      "metadata": {
        "id": "yFVRSFuDB9-J"
      },
      "execution_count": null,
      "outputs": []
    },
    {
      "cell_type": "code",
      "source": [
        "import json\n",
        "\n",
        "with open('sample.json','w') as f:\n",
        "  json.dump(obj,f,default=func)"
      ],
      "metadata": {
        "id": "1YTtUKUYBkPC"
      },
      "execution_count": null,
      "outputs": []
    },
    {
      "cell_type": "code",
      "source": [
        "import pickle \n",
        "\n",
        "with open('sample.pkl','wb') as f:\n",
        "  pickle.dump(obj,f)"
      ],
      "metadata": {
        "id": "5t4_nPNhESSW"
      },
      "execution_count": null,
      "outputs": []
    },
    {
      "cell_type": "code",
      "source": [
        "import pickle \n",
        "\n",
        "with open('sample.pkl','rb') as f:\n",
        "  p=pickle.load(f)\n",
        "\n",
        "p.func()"
      ],
      "metadata": {
        "colab": {
          "base_uri": "https://localhost:8080/",
          "height": 35
        },
        "id": "nUTKyY00GIg_",
        "outputId": "f725f387-352f-4f24-bba5-009b397a2a9c"
      },
      "execution_count": null,
      "outputs": [
        {
          "output_type": "execute_result",
          "data": {
            "text/plain": [
              "'My name is Siddhant Pandey and age is 25 and city is doon.'"
            ],
            "application/vnd.google.colaboratory.intrinsic+json": {
              "type": "string"
            }
          },
          "metadata": {},
          "execution_count": 49
        }
      ]
    }
  ]
}