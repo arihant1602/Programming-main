{
  "cells": [
    {
      "cell_type": "code",
      "execution_count": null,
      "metadata": {
        "id": "QcAqdcAVgFZq"
      },
      "outputs": [],
      "source": [
        "f = open('sample.txt','w')\n",
        "f.write('Hey, how are u?')\n",
        "f.close()"
      ]
    },
    {
      "cell_type": "code",
      "execution_count": null,
      "metadata": {
        "id": "ITOEC3F1hCwj"
      },
      "outputs": [],
      "source": [
        "f = open('sample1.txt','w')\n",
        "f.write('Hey, how are u?\\n')\n",
        "f.write('Hey, how r u  doin?')\n",
        "f.close()"
      ]
    },
    {
      "cell_type": "code",
      "execution_count": null,
      "metadata": {
        "id": "M-0Eu6BHh6bl"
      },
      "outputs": [],
      "source": [
        "L=['hello\\n','how are u\\n','I am fine']\n",
        "\n",
        "f=open('sample2.txt','w')\n",
        "f.writelines(L)\n",
        "f.close()"
      ]
    },
    {
      "cell_type": "code",
      "execution_count": null,
      "metadata": {
        "id": "30KEyuClid73"
      },
      "outputs": [],
      "source": [
        "f=open('sample2.txt','a')\n",
        "f.write('\\nHow about you')\n",
        "f.close()"
      ]
    },
    {
      "cell_type": "code",
      "execution_count": null,
      "metadata": {
        "id": "4dcOwjFajXIe"
      },
      "outputs": [],
      "source": [
        "L=['hello','how are u','I am fine']\n",
        "\n",
        "f=open('sample3.txt','w')\n",
        "\n",
        "for i in L:\n",
        "  f.write(i+'\\n')\n",
        "f.close()"
      ]
    },
    {
      "cell_type": "code",
      "execution_count": null,
      "metadata": {
        "colab": {
          "base_uri": "https://localhost:8080/"
        },
        "id": "_x-oQOipkFeM",
        "outputId": "a9282027-c986-4055-e1f3-2319cc9f18e3"
      },
      "outputs": [
        {
          "name": "stdout",
          "output_type": "stream",
          "text": [
            "hello\n",
            "how \n"
          ]
        }
      ],
      "source": [
        "f=open('/content/sample2.txt','r')\n",
        "print(f.read(10))\n",
        "f.close()"
      ]
    },
    {
      "cell_type": "code",
      "execution_count": null,
      "metadata": {
        "colab": {
          "base_uri": "https://localhost:8080/"
        },
        "id": "aXk_E5oSk5tj",
        "outputId": "1e56b5ad-5e8c-4d38-af3a-296f03eca035"
      },
      "outputs": [
        {
          "name": "stdout",
          "output_type": "stream",
          "text": [
            "hello\n",
            "how are u\n",
            "\n"
          ]
        }
      ],
      "source": [
        "f=open('/content/sample3.txt','r')\n",
        "print(f.readline(),end='')\n",
        "print(f.readline())\n",
        "f.close()"
      ]
    },
    {
      "cell_type": "code",
      "execution_count": null,
      "metadata": {
        "colab": {
          "base_uri": "https://localhost:8080/"
        },
        "id": "sA3NNDzUnJ8s",
        "outputId": "e64fa81f-ef2b-4924-a811-acb6790ccf55"
      },
      "outputs": [
        {
          "name": "stdout",
          "output_type": "stream",
          "text": [
            "hello\n",
            "how are u\n",
            "I am fine\n",
            "\n"
          ]
        }
      ],
      "source": [
        "with open('sample3.txt','r') as f:\n",
        "  print(f.read())"
      ]
    },
    {
      "cell_type": "code",
      "execution_count": null,
      "metadata": {
        "colab": {
          "base_uri": "https://localhost:8080/"
        },
        "id": "egCFUq16mn4s",
        "outputId": "17eaaf57-0549-4ad8-b702-5094881813f2"
      },
      "outputs": [
        {
          "name": "stdout",
          "output_type": "stream",
          "text": [
            "hello\n",
            "how \n",
            "10\n",
            "\n",
            "how are u\n",
            "15\n"
          ]
        }
      ],
      "source": [
        "with open('sample3.txt','r') as f:\n",
        "  print(f.read(10))\n",
        "  print(f.tell())\n",
        "  f.seek(5)\n",
        "  print(f.read(10))\n",
        "  print(f.tell())"
      ]
    },
    {
      "cell_type": "code",
      "execution_count": null,
      "metadata": {
        "id": "z-DQkcBonH7U"
      },
      "outputs": [],
      "source": []
    }
  ],
  "metadata": {
    "colab": {
      "provenance": []
    },
    "kernelspec": {
      "display_name": "Python 3",
      "name": "python3"
    },
    "language_info": {
      "name": "python"
    }
  },
  "nbformat": 4,
  "nbformat_minor": 0
}
